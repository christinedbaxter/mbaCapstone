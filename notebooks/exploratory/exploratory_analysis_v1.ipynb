{
 "cells": [
  {
   "cell_type": "markdown",
   "metadata": {},
   "source": [
    "## Introduction"
   ]
  },
  {
   "cell_type": "markdown",
   "metadata": {},
   "source": [
    "### Objective\n",
    "The primary objective of this analysis is to examine the historical performance of Chester, Inc., as well as its market competitors. Through a comprehensive examination of various datasets, we aim to extract actionable insights that could pave the way for strategic decisions and future growth.\n",
    "\n",
    "---\n",
    "\n",
    "### Scope\n",
    "The analysis covers multiple facets of business performance, including but not limited to:\n",
    "- Sales and Revenue Trends\n",
    "- Market Share Analysis\n",
    "- Human Resource Metrics\n",
    "- Financial Ratios and Health\n",
    "\n",
    "---\n",
    "\n",
    "### Methodology\n",
    "We'll employ Python's data manipulation and visualization libraries—Pandas, Matplotlib, and Seaborn—to perform this analysis. The study is organized into five phases:\n",
    "1. **Data Preparation**: Importing libraries and loading datasets.\n",
    "2. **Exploratory Data Analysis (EDA)**: Summary statistics and correlation analysis.\n",
    "3. **Data Visualization**: Creating insightful charts and graphs.\n",
    "4. **Insights and Recommendations**: Drawing conclusions and suggesting actionable steps.\n",
    "5. **Conclusion**: Summarizing the key takeaways.\n",
    "\n",
    "---\n",
    "\n",
    "### Importance\n",
    "The insights derived from this analysis will not only provide a snapshot of the company's current state but also shape its future direction. This is critical for stakeholders in making informed decisions.\n"
   ]
  },
  {
   "cell_type": "markdown",
   "metadata": {},
   "source": [
    "## Phase 1:  Data Preparation"
   ]
  },
  {
   "cell_type": "markdown",
   "metadata": {},
   "source": [
    "### Step 1: Import libraries"
   ]
  },
  {
   "cell_type": "markdown",
   "metadata": {},
   "source": [
    "First, we'll import the Python libraries that will be needed for data manipulation and visualization."
   ]
  },
  {
   "cell_type": "code",
   "execution_count": null,
   "metadata": {},
   "outputs": [],
   "source": [
    "import pandas as pd\n",
    "import matplotlib.pyplot as plt\n",
    "import seaborn as sns"
   ]
  },
  {
   "cell_type": "markdown",
   "metadata": {},
   "source": [
    "### Step 2: Load the Data"
   ]
  },
  {
   "cell_type": "markdown",
   "metadata": {},
   "source": [
    "Next, we will load the data from the Excel file into Python."
   ]
  },
  {
   "cell_type": "code",
   "execution_count": null,
   "metadata": {},
   "outputs": [],
   "source": [
    "# Read the Excel file data into a dictionary of dataframes\n",
    "excel_file = '../../data/raw/CompetitionRoundsData.xlsx'\n",
    "sheets_dict = pd.read_excel(excel_file, sheet_name=None)\n"
   ]
  },
  {
   "cell_type": "markdown",
   "metadata": {},
   "source": [
    "### Step 3: Data Review"
   ]
  },
  {
   "cell_type": "markdown",
   "metadata": {},
   "source": [
    "Now we will utilize various Pandas methods and functions to familiarize ourselves with the data.\n",
    "\n",
    "First let's see what data is available:"
   ]
  },
  {
   "cell_type": "code",
   "execution_count": null,
   "metadata": {},
   "outputs": [],
   "source": [
    "# Get the list of worksheet names\n",
    "worksheet_names = list(sheets_dict.keys())\n",
    "\n",
    "# Display the worksheet names in a user-friendly manner\n",
    "print('Available Worksheets:')\n",
    "for index, sheet in enumerate(worksheet_names):\n",
    "    print(f'{index+1}. {sheet}')"
   ]
  },
  {
   "cell_type": "markdown",
   "metadata": {},
   "source": [
    "Wow, that is a lot of data!\n",
    "\n",
    "Let's review further with a systematic approach:\n",
    "1. Check the Dimensions\n",
    "2. Data Types\n",
    "3. Summary Statistics\n",
    "4. First Few Rows\n",
    "5. Missing Values"
   ]
  },
  {
   "cell_type": "markdown",
   "metadata": {},
   "source": [
    "#### Step 3.1: Basic Info"
   ]
  },
  {
   "cell_type": "markdown",
   "metadata": {},
   "source": [
    "We'll start by looping through the dictionary and print out basic information for each DataFrame:"
   ]
  },
  {
   "cell_type": "code",
   "execution_count": null,
   "metadata": {},
   "outputs": [],
   "source": [
    "# Initialize an empty DataFrame to store summary\n",
    "summary_df = pd.DataFrame(columns=['Sheet Name', 'Missing Values', 'Numeric Cols', 'Categorical Cols'])\n",
    "\n",
    "# Initialize an index counter\n",
    "index_counter = 0\n",
    "\n",
    "# Iterate through sheets_dict to populate summary_df\n",
    "for name, df in sheets_dict.items():\n",
    "    missing_values = df.isnull().sum().sum() | df.isna().sum().sum()\n",
    "    numeric_cols = len(df.select_dtypes(include=['number']).columns)\n",
    "    categorical_cols = len(df.select_dtypes(include=['object']).columns)\n",
    "\n",
    "    summary_df.loc[index_counter] = [name, missing_values, numeric_cols, categorical_cols]\n",
    "    index_counter += 1\n",
    "\n",
    "# Set the index of summary_df to Sheet Name for better readability\n",
    "summary_df.set_index('Sheet Name', inplace=True)\n",
    "\n",
    "# Display the summary DataFrame\n",
    "print(summary_df)"
   ]
  },
  {
   "cell_type": "markdown",
   "metadata": {},
   "source": [
    "#### Step 3.2: Data Shape/Types"
   ]
  },
  {
   "cell_type": "code",
   "execution_count": null,
   "metadata": {},
   "outputs": [],
   "source": [
    "# Used .info() to get a concise summary of each DataFrame\n",
    "for name, df in sheets_dict.items():\n",
    "    print(f\"Sheet Name: {name}\")\n",
    "    print(f\"Info:\")\n",
    "    print(f\"{df.info()}\")\n",
    "    print(\"-\"*50)"
   ]
  },
  {
   "cell_type": "markdown",
   "metadata": {},
   "source": [
    "#### Step 3.3: Summary Statistics"
   ]
  },
  {
   "cell_type": "code",
   "execution_count": null,
   "metadata": {},
   "outputs": [],
   "source": [
    "# Utilize the describe() method to get a statistical summary of each DataFrame\n",
    "for name, df in sheets_dict.items():\n",
    "    print(f\"Sheet Name: {name}\")\n",
    "    print(f\"Statistical Summary:\")\n",
    "    print(f\"{df.describe()}\")\n",
    "    print(\"-\"*50)"
   ]
  },
  {
   "cell_type": "markdown",
   "metadata": {},
   "source": [
    "Here are my observations:\n",
    "\n",
    "- ~~Years: 9 rows, 4 cols, no missing values, 1 numeric col, 2 cat cols....~~ NOT using for analysis\n",
    "- ~~Forecast: 20 rows, 15 cols, no missing values, 13 numeric cols, 2 cat cols....~~ NOT using for analysis\n",
    "- selectedFinancials: 54 rows, 15 cols, no missing values, 13 numeric cols, 1 cat col....*interested in using*\n",
    "    - ROS, ROA, ROE, Sales, EBIT, Profits, cumulativeProfits, SG&A/Sales, contribMarginPercent\n",
    "- Stocks: 54 rows, 12 cols, no missing values, 10 numeric cols, 1 cat col....*interested in using*\n",
    "    - Close, Change, EPS\n",
    "- ~~Bonds: 131 rows, 8 cols, 4 numberic cols, 3 cat cols...~~ NOT using for analysis\n",
    "- ~~Financial: 54 rows, 49 cols, no missing values, 47 numeric cols, 1 cat col....~~ NOT using for analysis\n",
    "- ProductInfo: 284 rows, 20 cols, no missing values, 15 numeric cols, 3 cat cols...*interested in using*\n",
    "    - product, segment, unitsSold, Inventory, ageDec31, mtbf, pfmn, size, price, materialCost, laborCost, contrMargin, automationNR,  plantUtiliz\n",
    "- Size Stats: 45 rows, 8 cols, no missing values, 5 numeric cols, 2 cat cols....*interested in using*\n",
    "    - Total Industry Unit Demand, Actual Industry Unit Sales, Segment % of Total Industry, Next Year's Segment Growth Rate\n",
    "- Customer Criteria: 180 rows, 8 cols, no missing values, 3 numeric cols, 4 cat cols....*interested in using*\n",
    "    - criteria, Expectations (need to delete redundant text and split into low/high and Pfmn/Size), Importance\n",
    "- ProductBySegment: 332 rows, 19 cols, 158 missing values in stockOut col, 13 numeric cols, 4 cat cols....*interested in using*\n",
    "    - marketShare, stockOut (fill missing values with 0), promoBudget, custAwareness, salesBudget, custaccessibility, custSurveyDec\n",
    "- ~~MarketShare: 306 rows, 16 cols, 1904 missing values, 13 numeric cols, 2 cat cols....~~ NOT using for analysis\n",
    "- actualMarketShareUnits: 9 rows, 9 cols, no missing values, 7 numeric cols, 1 cat col....*interested in using*\n",
    "    - Industry Unit Sales for Trad Seg, Industry Unit Sales for Low Seg, Industry Unit Sales for High Seg, Industry Unit Sales for Pfmn Seg, Industry Unit Sales for Size Seg\n",
    "- potentialMarketShareUnits: 9 rows, 9 cols, no missing values, 7 numeric cols, 1 cat col....*interested in using*\n",
    "    - Units Demanded for Trad Seg, Units Demanded for Low Seg, Units Demanded for High Seg, Units Demanded for Pfmn Seg, Units Demanded for Size Seg\n",
    "- actualMarketSharePercent: 9 rows, 9 cols, no missing values, 7 numeric cols, 1 cat col....*interested in using*\n",
    "    - Actual % of Market for Trad Seg, Actual % of Market for Low Seg, Actual % of Market for High Seg, Actual % of Market for Pfmn Seg, Actual % of Market for Size Seg\n",
    "- potentialMarketSharepercent: 9 rows, 9 cols, no missing values, 7 numeric cols, 1 cat col....*interested in using*\n",
    "    - Potential % of Market for Trad Seg, Potential % of Market for Low Seg, Potential % of Market for High Seg, Potential % of Market for Pfmn Seg, Potential % of Market for Size Seg\n",
    "- HR: 54 rows, 23 cols, no missing values, 20 numeric cols, 2 cat cols....*interested in using*\n",
    "    - Overtime%, Turnover Rate, New Employees, Productivity Index, Recruiting Cost, Separation Cost, Training Cost, Total HR Admin Cost, Wages, Annual Raise\n",
    "- TQM: 54 rows, 19 cols, no missing values, 17 numeric cols, 1 cat col....*interested in using*\n",
    "    - Total Expenditures, Material Cost Reduction, Labor Cost Reduction, Reduction R&D Cycle Time, Reduction Admin Costs, Demand Increase\n",
    "- ~~Ethics: 63 rows, 10 cols, no missing values, 8 numeric cols, 1 cat col....~~ NOT using for analysis\n",
    "- officialDecMrkt: 45 rows, 16 cols, no missing values, 11 numeric cols, 4 cat cols....*interested in using*\n",
    "    - MKTGDirectMail, MKTGDistributors, MKTGEmail, MKTGInsideSales, MKTGOutsideSales, MKTGPrintMedia, MKTGReports, MKTGTradeShows, MKTGWebMedia\n",
    "- ~~officialDecPrd: 56 rows, 15 cols, no missing values, 11 numeric cols, 3 cat cols....~~ NOT using for analysis\n",
    "- ~~officialDecHR: 14 rows, 6 cols, no missing values, 4 numeric cols, 1 cat col....~~ NOT using for analysis\n",
    "- ~~officialDecFin: 8 rows, 12 cols, no missing values, 9 numeric cols, 2 cat cols....~~ NOT using for analysis"
   ]
  },
  {
   "cell_type": "markdown",
   "metadata": {},
   "source": [
    "#### Step 3.4: Peek into Data"
   ]
  },
  {
   "cell_type": "markdown",
   "metadata": {},
   "source": [
    "Taking a peek into the actual data by utilizing the sample() method and confirming agreement with existing observations.\n"
   ]
  },
  {
   "cell_type": "code",
   "execution_count": null,
   "metadata": {},
   "outputs": [],
   "source": [
    "# Display a data sampling of each DataFrame\n",
    "for name, df in sheets_dict.items():\n",
    "    print(f\"Sheet Name: {name}\")\n",
    "    print(f\"Data Sample:\")\n",
    "    print(f\"{df.head()}\")SteSteSSS\n",
    "    print(\"-\"*50)"
   ]
  },
  {
   "cell_type": "markdown",
   "metadata": {},
   "source": [
    "#### Step 3.5: Drop Unwanted Sheets"
   ]
  },
  {
   "cell_type": "code",
   "execution_count": 35,
   "metadata": {},
   "outputs": [
    {
     "name": "stdout",
     "output_type": "stream",
     "text": [
      "\n",
      "Updated summary DataFrame after dropping specific sheets:\n",
      "                             Missing Values  Numeric Cols  Categorical Cols\n",
      "Sheet Name                                                                 \n",
      "selectedFinancials                        0            13                 1\n",
      "Stocks                                    0            10                 1\n",
      "ProductInfo                               0            15                 3\n",
      "Size Stats                                0             5                 2\n",
      "Customer Criteria                         0             3                 4\n",
      "ProductBySegment                        158            13                 4\n",
      "actualMarketShareUnits                    0             7                 1\n",
      "potentialMarketShareUnits                 0             7                 1\n",
      "actualMarketSharePercent                  0             7                 1\n",
      "potentialMarketSharePercent               0             7                 1\n",
      "HR                                        0            20                 2\n",
      "TQM                                       0            17                 1\n",
      "officialDecMrkt                           0            11                 4\n"
     ]
    }
   ],
   "source": [
    "# Drop specific sheets (rows in this DataFrame) that are not the focus of this analysis\n",
    "sheets_to_drop = ['Years', 'Forecast', 'Bonds', 'Financial', 'MarketShare', 'Ethics', 'officialDecPrd', 'officialDecHR', 'officialDecFin']\n",
    "\n",
    "# Dropping the rows\n",
    "summary_df.drop(sheets_to_drop, inplace=True)\n",
    "\n",
    "# Displaying the updated summary DataFrame\n",
    "print(\"\\nUpdated summary DataFrame after dropping specific sheets:\")\n",
    "print(summary_df)"
   ]
  },
  {
   "cell_type": "markdown",
   "metadata": {},
   "source": [
    "### Step 4: Data Cleaning"
   ]
  },
  {
   "cell_type": "markdown",
   "metadata": {},
   "source": [
    "#### Step 4.1 Handle Missing Values"
   ]
  },
  {
   "cell_type": "code",
   "execution_count": 38,
   "metadata": {},
   "outputs": [
    {
     "name": "stdout",
     "output_type": "stream",
     "text": [
      "\n",
      "Updated summary DataFrame after updating 'Missing Value' count for 'ProductBySegment':\n",
      "                             Missing Values  Numeric Cols  Categorical Cols\n",
      "Sheet Name                                                                 \n",
      "selectedFinancials                        0            13                 1\n",
      "Stocks                                    0            10                 1\n",
      "ProductInfo                               0            15                 3\n",
      "Size Stats                                0             5                 2\n",
      "Customer Criteria                         0             3                 4\n",
      "ProductBySegment                          0            13                 4\n",
      "actualMarketShareUnits                    0             7                 1\n",
      "potentialMarketShareUnits                 0             7                 1\n",
      "actualMarketSharePercent                  0             7                 1\n",
      "potentialMarketSharePercent               0             7                 1\n",
      "HR                                        0            20                 2\n",
      "TQM                                       0            17                 1\n",
      "officialDecMrkt                           0            11                 4\n"
     ]
    }
   ],
   "source": [
    "# Access the DataFrame from sheets_dict\n",
    "product_by_segment_df = sheets_dict['ProductBySegment']\n",
    "\n",
    "# Fill NaN values in the 'stockOut' column with 0\n",
    "product_by_segment_df['stockOut'].fillna(0, inplace=True)\n",
    "\n",
    "# Update the DataFrame in sheets_dict\n",
    "sheets_dict['ProductBySegment'] = product_by_segment_df\n",
    "\n",
    "# Update the 'Missing Values' count for 'ProductBySegment' in summary_df\n",
    "summary_df.loc['ProductBySegment', 'Missing Values'] = 0\n",
    "\n",
    "# Displaying the updated summary DataFrame\n",
    "print(\"\\nUpdated summary DataFrame after updating 'Missing Value' count for 'ProductBySegment':\")\n",
    "print(summary_df)"
   ]
  }
 ],
 "metadata": {
  "kernelspec": {
   "display_name": "Python 3",
   "language": "python",
   "name": "python3"
  },
  "language_info": {
   "codemirror_mode": {
    "name": "ipython",
    "version": 3
   },
   "file_extension": ".py",
   "mimetype": "text/x-python",
   "name": "python",
   "nbconvert_exporter": "python",
   "pygments_lexer": "ipython3",
   "version": "3.11.4"
  }
 },
 "nbformat": 4,
 "nbformat_minor": 2
}
